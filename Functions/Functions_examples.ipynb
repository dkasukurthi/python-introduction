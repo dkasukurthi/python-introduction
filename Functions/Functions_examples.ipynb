{
 "cells": [
  {
   "cell_type": "markdown",
   "metadata": {},
   "source": [
    "# Temperature Conversion Example"
   ]
  },
  {
   "cell_type": "code",
   "execution_count": 2,
   "metadata": {},
   "outputs": [
    {
     "name": "stdout",
     "output_type": "stream",
     "text": [
      "77.0\n",
      "25.0\n"
     ]
    }
   ],
   "source": [
    "def convert_temperature(temp,unit):\n",
    "    \"\"\" This function convertes temperatrue between Celsius and Farenheit\"\"\"\n",
    "    if unit=='C':\n",
    "        return temp * 9/5 +32\n",
    "    elif unit=='F':\n",
    "        return (temp -32)*5/9\n",
    "    else:\n",
    "        return None\n",
    "print(convert_temperature(25,'C'))\n",
    "print(convert_temperature(77,'F'))"
   ]
  },
  {
   "cell_type": "markdown",
   "metadata": {},
   "source": [
    "# Example 2 Password Strenght Checker"
   ]
  },
  {
   "cell_type": "code",
   "execution_count": 7,
   "metadata": {},
   "outputs": [
    {
     "name": "stdout",
     "output_type": "stream",
     "text": [
      "password Strength: weak password\n",
      "password Strength: Strong \n"
     ]
    }
   ],
   "source": [
    "def is_strong_Password(password):\n",
    "    \"\"\"This function checks if the password is strong or not\"\"\"\n",
    "    if len(password)<8:\n",
    "        return 'weak password'\n",
    "    if not any(char.isdigit() for char in password):\n",
    "        return 'weak password'\n",
    "    if not any(char.islower() for char in password):\n",
    "        return 'weak password'\n",
    "    if not any(char.isupper() for char in password):\n",
    "        return 'weak password'\n",
    "    if not any(char in '!@#$%^&*()_+' for char in password):\n",
    "        return 'weak password'\n",
    "    return 'Strong '\n",
    "# Calling is strong password Function\n",
    "print(f\"password Strength: {is_strong_Password('abc123')}\")\n",
    "print(f\"password Strength: {is_strong_Password('Abcd@123')}\")"
   ]
  },
  {
   "cell_type": "markdown",
   "metadata": {},
   "source": [
    "# Calculate each ITEM cost"
   ]
  },
  {
   "cell_type": "code",
   "execution_count": 11,
   "metadata": {},
   "outputs": [
    {
     "name": "stdout",
     "output_type": "stream",
     "text": [
      "{'Apple': 2.0, 'Banana': 1.7999999999999998, 'Orange': 2.0999999999999996}\n"
     ]
    }
   ],
   "source": [
    "# Calculate cost of each item\n",
    "\n",
    "def calculate_item_cost(cart):\n",
    "    item_costs=0\n",
    "    \n",
    "    item_costs={item['name']: item['price']*item['quantity'] for item in cart}\n",
    "    return item_costs\n",
    "# Sample cart\n",
    "cart = [\n",
    "    {'name': 'Apple', 'price': 0.5, 'quantity': 4},\n",
    "    {'name': 'Banana', 'price': 0.3, 'quantity': 6},\n",
    "    {'name': 'Orange', 'price': 0.7, 'quantity': 3}\n",
    "]\n",
    "\n",
    "# Calculate and print item costs\n",
    "costs = calculate_item_cost(cart)\n",
    "print(costs)\n",
    "\n"
   ]
  },
  {
   "cell_type": "code",
   "execution_count": 16,
   "metadata": {},
   "outputs": [
    {
     "name": "stdout",
     "output_type": "stream",
     "text": [
      "{'Apple': 2.0, 'Banana': 1.7999999999999998, 'Orange': 2.0999999999999996}\n"
     ]
    }
   ],
   "source": [
    "def calculate_item_cost(cart):\n",
    "    \"\"\"\n",
    "    Calculates the total cost for each item in the cart.\n",
    "\n",
    "    :param cart: List of dictionaries containing 'name', 'price', and 'quantity'.\n",
    "    :return: Dictionary with item names as keys and total cost as values.\n",
    "    \"\"\"\n",
    "    item_cost = {}  # Initialize an empty dictionary\n",
    "\n",
    "    for item in cart:\n",
    "        total_cost[item['name']] = item['price'] * item['quantity']  # Store cost for each item\n",
    "\n",
    "    return total_cost\n",
    "\n",
    "\n",
    "# Example cart data\n",
    "cart = [\n",
    "    {'name': 'Apple', 'price': 0.5, 'quantity': 4},\n",
    "    {'name': 'Banana', 'price': 0.3, 'quantity': 6},\n",
    "    {'name': 'Orange', 'price': 0.7, 'quantity': 3}\n",
    "]\n",
    "\n",
    "# Calling the function\n",
    "item_cost = calculate_item_cost(cart)\n",
    "print(item_cost)\n"
   ]
  },
  {
   "cell_type": "markdown",
   "metadata": {},
   "source": [
    "# Calculate Total cart cost "
   ]
  },
  {
   "cell_type": "code",
   "execution_count": 17,
   "metadata": {},
   "outputs": [
    {
     "name": "stdout",
     "output_type": "stream",
     "text": [
      "5.8999999999999995\n"
     ]
    }
   ],
   "source": [
    "def calculate_total_cost(cart):\n",
    "    total_cost=0\n",
    "    for item in cart:\n",
    "        total_cost+=item['price']* item['quantity']\n",
    "\n",
    "    return total_cost\n",
    "\n",
    "\n",
    "## Example cart data\n",
    "\n",
    "cart=[\n",
    "    {'name':'Apple','price':0.5,'quantity':4},\n",
    "    {'name':'Banana','price':0.3,'quantity':6},\n",
    "    {'name':'Orange','price':0.7,'quantity':3}\n",
    "\n",
    "]\n",
    "\n",
    "## calling the function\n",
    "total_cost=calculate_total_cost(cart)\n",
    "print(total_cost)"
   ]
  },
  {
   "cell_type": "markdown",
   "metadata": {},
   "source": [
    "# Check if string is palindrome"
   ]
  },
  {
   "cell_type": "code",
   "execution_count": 19,
   "metadata": {},
   "outputs": [
    {
     "name": "stdout",
     "output_type": "stream",
     "text": [
      "True\n",
      "False\n"
     ]
    }
   ],
   "source": [
    "def is_palindrome(s):\n",
    "    s=s.lower().replace(\" \",\"\")\n",
    "    return s==s[::-1]\n",
    "print(is_palindrome(\"madam\"))\n",
    "print(is_palindrome(\"Hello\"))    "
   ]
  },
  {
   "cell_type": "markdown",
   "metadata": {},
   "source": [
    "# Calculate Franctionals of a number using recurssion"
   ]
  },
  {
   "cell_type": "code",
   "execution_count": 20,
   "metadata": {},
   "outputs": [
    {
     "name": "stdout",
     "output_type": "stream",
     "text": [
      "factorial of 4 is 24\n"
     ]
    }
   ],
   "source": [
    "def factorial(num):\n",
    "    if num==0 or num==1:\n",
    "        return 1\n",
    "    return num*factorial(num-1)\n",
    "num=4\n",
    "print(f\"factorial of {num} is {factorial(num)}\")"
   ]
  },
  {
   "cell_type": "markdown",
   "metadata": {},
   "source": [
    "##### Example 6: A Function To Read A File and count the frequency of each word\n"
   ]
  },
  {
   "cell_type": "code",
   "execution_count": 21,
   "metadata": {},
   "outputs": [
    {
     "name": "stdout",
     "output_type": "stream",
     "text": [
      "{'hello': 1, 'rama': 1, 'how': 1, 'are': 2, 'you': 2, 'when': 1, 'coming': 1}\n"
     ]
    }
   ],
   "source": [
    "def count_word_frequency(file_path):\n",
    "    word_count={}\n",
    "    with open(file_path,'r') as file:\n",
    "        for line in file:\n",
    "            words=line.split()\n",
    "            for word in words:\n",
    "                word=word.lower().strip('.,!?;:\"\\'')\n",
    "                word_count[word]=word_count.get(word,0)+1\n",
    "    \n",
    "    return word_count\n",
    "\n",
    "filepath='sample.txt'\n",
    "word_frequency=count_word_frequency(filepath)\n",
    "print(word_frequency)"
   ]
  },
  {
   "cell_type": "markdown",
   "metadata": {},
   "source": [
    "##### Example 7: Validate Email Address"
   ]
  },
  {
   "cell_type": "code",
   "execution_count": null,
   "metadata": {},
   "outputs": [],
   "source": [
    "import re\n",
    "\n",
    "# Email validation function\n",
    "def is_valid_email(email):\n",
    "    \"\"\"This function checks if the email is valid.\"\"\"\n",
    "    pattern = r'^[a-zA-Z0-9_.+-]+@[a-zA-Z0-9-]+\\.[a-zA-Z0-9-.]+$'\n",
    "    return re.match(pattern, email) is not None\n",
    "\n",
    "# Calling the function\n",
    "print(is_valid_email(\"test@example.com\"))  # Output: True\n",
    "print(is_valid_email(\"invalid-email\"))  # Output: False\n"
   ]
  }
 ],
 "metadata": {
  "kernelspec": {
   "display_name": "Python 3",
   "language": "python",
   "name": "python3"
  },
  "language_info": {
   "codemirror_mode": {
    "name": "ipython",
    "version": 3
   },
   "file_extension": ".py",
   "mimetype": "text/x-python",
   "name": "python",
   "nbconvert_exporter": "python",
   "pygments_lexer": "ipython3",
   "version": "3.13.2"
  }
 },
 "nbformat": 4,
 "nbformat_minor": 2
}
