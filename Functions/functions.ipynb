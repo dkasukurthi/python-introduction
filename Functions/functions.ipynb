{
 "cells": [
  {
   "cell_type": "markdown",
   "metadata": {},
   "source": [
    "## Defining Function\n",
    "Definition:\n",
    "\n",
    "A function is a block of code that performs a specific task.\n",
    "Functions help in organizing code, reusing code, and improving readability."
   ]
  },
  {
   "cell_type": "code",
   "execution_count": null,
   "metadata": {},
   "outputs": [],
   "source": [
    "# Code Cell\n",
    "def function_name(paramters):\n",
    "    \"\"\" Doc String \"\"\"\n",
    "        # Function Body\n",
    "    return expression"
   ]
  },
  {
   "cell_type": "code",
   "execution_count": 1,
   "metadata": {},
   "outputs": [
    {
     "name": "stdout",
     "output_type": "stream",
     "text": [
      "number is even\n"
     ]
    }
   ],
   "source": [
    "### why Functions\n",
    "num=24\n",
    "if num%2==0:\n",
    "    print(\"number is even\")\n",
    "else:\n",
    "    print(\"number is odd\")"
   ]
  },
  {
   "cell_type": "code",
   "execution_count": null,
   "metadata": {},
   "outputs": [],
   "source": [
    "## Defining Function without retrun expression\n",
    "def num_even_or_odd(num):\n",
    "    if num%2==0:\n",
    "        print(\"number is even\")\n",
    "    else:\n",
    "         print(\"number is odd\")"
   ]
  },
  {
   "cell_type": "code",
   "execution_count": 4,
   "metadata": {},
   "outputs": [
    {
     "name": "stdout",
     "output_type": "stream",
     "text": [
      "number is even\n"
     ]
    }
   ],
   "source": [
    "## Calling expression\n",
    "num_even_or_odd(12)"
   ]
  },
  {
   "cell_type": "code",
   "execution_count": 5,
   "metadata": {},
   "outputs": [
    {
     "data": {
      "text/plain": [
       "5"
      ]
     },
     "execution_count": 5,
     "metadata": {},
     "output_type": "execute_result"
    }
   ],
   "source": [
    "### functions with multiple parameters\n",
    "def add(a,b):\n",
    "    return a+b\n",
    "add(2,3)"
   ]
  },
  {
   "cell_type": "code",
   "execution_count": null,
   "metadata": {},
   "outputs": [
    {
     "name": "stdout",
     "output_type": "stream",
     "text": [
      "Hello Das welocme to the Python world\n"
     ]
    }
   ],
   "source": [
    "## with out Default Parameters\n",
    "def greet(name):\n",
    "    print(f\"Hello {name} welocme to the Python world\")\n",
    "greet(\"Das\")"
   ]
  },
  {
   "cell_type": "code",
   "execution_count": null,
   "metadata": {},
   "outputs": [
    {
     "name": "stdout",
     "output_type": "stream",
     "text": [
      "Hello Guest welocme to the Python world\n"
     ]
    }
   ],
   "source": [
    "## with Default Parameters\n",
    "def greet(name=\"Guest\"):\n",
    "    print(f\"Hello {name} welocme to the Python world\")\n",
    "greet()"
   ]
  },
  {
   "cell_type": "code",
   "execution_count": 9,
   "metadata": {},
   "outputs": [],
   "source": [
    "### Variable Length Arguments\n",
    "## Positional And Keywords arguments\n",
    "def var_len_args(*args):\n",
    "    for val in args:\n",
    "        print(f\"{val}\")"
   ]
  },
  {
   "cell_type": "code",
   "execution_count": 10,
   "metadata": {},
   "outputs": [
    {
     "name": "stdout",
     "output_type": "stream",
     "text": [
      "1\n",
      "2\n",
      "3\n",
      "4\n",
      "5\n",
      "6\n",
      "7\n",
      "8\n",
      "9\n",
      "10\n",
      "Krish\n"
     ]
    }
   ],
   "source": [
    "### Calling Variable Length Arguments\n",
    "var_len_args(1,2,3,4,5,6,7,8,9,10,\"Krish\")"
   ]
  },
  {
   "cell_type": "code",
   "execution_count": 14,
   "metadata": {},
   "outputs": [],
   "source": [
    "## Key word Arguments\n",
    "def fn_key_args(**kargs):\n",
    "    for key, val in kargs.items():\n",
    "        print(f\"{key}:{val}\")"
   ]
  },
  {
   "cell_type": "code",
   "execution_count": 15,
   "metadata": {},
   "outputs": [
    {
     "name": "stdout",
     "output_type": "stream",
     "text": [
      "name:Dasa\n",
      "age:41\n",
      "country:India\n"
     ]
    }
   ],
   "source": [
    "## Calling KeyWord Arguments\n",
    "fn_key_args(name=\"Dasa\", age=\"41\", country=\"India\")"
   ]
  },
  {
   "cell_type": "code",
   "execution_count": 19,
   "metadata": {},
   "outputs": [],
   "source": [
    "## combining positional and Key word Arguments\n",
    "def print_posargs_keyargs(*args,**kargs):\n",
    "    for val in args:\n",
    "        print(f\"postional args: {val}\")\n",
    "    for key,val in kargs.items():\n",
    "        print(f\"Key Word arugments: {key}:{val}\")"
   ]
  },
  {
   "cell_type": "code",
   "execution_count": 20,
   "metadata": {},
   "outputs": [
    {
     "name": "stdout",
     "output_type": "stream",
     "text": [
      "postional args: 1\n",
      "postional args: 2\n",
      "postional args: 3\n",
      "postional args: 4\n",
      "Key Word arugments: name:dasa\n",
      "Key Word arugments: age:22\n"
     ]
    }
   ],
   "source": [
    "## calling print_posargs_keyargs\n",
    "print_posargs_keyargs(1,2,3,4,name=\"dasa\",age=\"22\")"
   ]
  },
  {
   "cell_type": "code",
   "execution_count": 22,
   "metadata": {},
   "outputs": [
    {
     "data": {
      "text/plain": [
       "6"
      ]
     },
     "execution_count": 22,
     "metadata": {},
     "output_type": "execute_result"
    }
   ],
   "source": [
    "## Return Statements\n",
    "def multipy(a,b):\n",
    "    return a*b\n",
    "multipy(2,3)"
   ]
  },
  {
   "cell_type": "code",
   "execution_count": 23,
   "metadata": {},
   "outputs": [
    {
     "data": {
      "text/plain": [
       "(6, 2)"
      ]
     },
     "execution_count": 23,
     "metadata": {},
     "output_type": "execute_result"
    }
   ],
   "source": [
    "## Return multiple parameters\n",
    "def multipy(a,b):\n",
    "    return a*b,a\n",
    "multipy(2,3)"
   ]
  },
  {
   "cell_type": "code",
   "execution_count": null,
   "metadata": {},
   "outputs": [],
   "source": [
    "# Code Cell\n"
   ]
  }
 ],
 "metadata": {
  "kernelspec": {
   "display_name": "Python 3",
   "language": "python",
   "name": "python3"
  },
  "language_info": {
   "codemirror_mode": {
    "name": "ipython",
    "version": 3
   },
   "file_extension": ".py",
   "mimetype": "text/x-python",
   "name": "python",
   "nbconvert_exporter": "python",
   "pygments_lexer": "ipython3",
   "version": "3.13.2"
  }
 },
 "nbformat": 4,
 "nbformat_minor": 2
}
